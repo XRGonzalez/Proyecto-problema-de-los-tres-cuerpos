{
 "cells": [
  {
   "cell_type": "markdown",
   "metadata": {},
   "source": [
    "# Proyecto de los tres cuerpos"
   ]
  },
  {
   "cell_type": "markdown",
   "metadata": {},
   "source": [
    "# Integrantes "
   ]
  },
  {
   "cell_type": "markdown",
   "metadata": {},
   "source": [
    "Sofía Castro Varona. Cuenta de github: SofCastro\n",
    "\n",
    "Ximena Gonzalez Rosas. Cuenta de github: XRGonzalez\n",
    "\n",
    "María Fernanda Monzón Salazar. Cuenta de github: fermonzón"
   ]
  },
  {
   "cell_type": "markdown",
   "metadata": {},
   "source": [
    "## Introducción"
   ]
  },
  {
   "cell_type": "markdown",
   "metadata": {},
   "source": [
    "Este notebook representa una simulación del problema de los tres cuerpos mediante una coreografía en forma de 8, propuesta por Chenciner y R. Montgomery. Para llevar a cabo la solución se analiza de manera numérica. No obstante, al no contar con una solución general, se le debe establecer condiciones ideales. \n"
   ]
  },
  {
   "cell_type": "markdown",
   "metadata": {},
   "source": [
    "Para empezar, se importan las siguientes paqueterías:"
   ]
  },
  {
   "cell_type": "code",
   "execution_count": 1,
   "metadata": {},
   "outputs": [],
   "source": [
    "import numpy as np #paquetería para vectores y matrices\n",
    "import matplotlib.pyplot as plt #paquetería para graficar\n",
    "from scipy.integrate import odeint #paquetería para integrar"
   ]
  },
  {
   "cell_type": "code",
   "execution_count": 2,
   "metadata": {},
   "outputs": [],
   "source": [
    "#Importamos la constante de gravitación universal\n",
    "from scipy.constants import G "
   ]
  },
  {
   "cell_type": "markdown",
   "metadata": {},
   "source": [
    "Partiendo de la ley de gravitación universal, la cual establece la fuerza de atracción entre dos cuerpos, y de la segunda ley de Newton llegamos a las siguientes que describen la aceleración de cada cuerpo"
   ]
  },
  {
   "cell_type": "markdown",
   "metadata": {},
   "source": [
    "## Ecuaciones de movimiento "
   ]
  },
  {
   "cell_type": "markdown",
   "metadata": {},
   "source": [
    "$$\\ddot{\\vec{r}}_{1} = -\\dfrac{Gm_2(\\vec{r}_{1} - \\vec{r}_{2})}{||\\vec{r}_{1} - \\vec{r}_{2}||^3} - \\dfrac{Gm_3(\\vec{r}_{1} - \\vec{r}_{3})}{||\\vec{r}_{1} - \\vec{r}_{3}||^{3}} $$\n",
    "\n",
    "$$\\ddot{\\vec{r}}_{2} = - \\dfrac{Gm_3(\\vec{r}_{2} - \\vec{r}_{3})}{||\\vec{r}_{2} - \\vec{r}_{3}||^3} - \\dfrac{Gm_1(\\vec{r}_{2} - \\vec{r}_{1})}{||\\vec{r}_{2} - \\vec{r}_{1}||^{3}} $$\n",
    "\n",
    "$$\\ddot{\\vec{r}}_{3} = - \\dfrac{Gm_1(\\vec{r}_{3} - \\vec{r}_{1})}{||\\vec{r}_{3} - \\vec{r}_{1}||^3} - \\dfrac{Gm_2(\\vec{r}_{3} - \\vec{r}_{2})}{||\\vec{r}_{3} - \\vec{r}_{2}||^{2}} $$"
   ]
  },
  {
   "cell_type": "markdown",
   "metadata": {},
   "source": [
    "Se define un campo vectorial, que representa la distribución espacial de la magnitud y dirección de los vectores, el cual se usa para modelar la velocidad y aceleración de los cuerpos"
   ]
  },
  {
   "cell_type": "markdown",
   "metadata": {},
   "source": [
    "## Campo Vectorial "
   ]
  },
  {
   "cell_type": "markdown",
   "metadata": {},
   "source": [
    "$$\\dot{\\vec{r}}_{1} = \\vec{V}_{1}$$\n",
    "$$\\dot{\\vec{r}}_{2} = \\vec{V}_{2}$$\n",
    "$$\\dot{\\vec{r}}_{3} = \\vec{V}_{3}$$\n",
    "\n",
    "\n",
    "$$\\dot{\\vec{V}}_{1} = - \\left( \\dfrac{Gm_2(\\vec{r}_{1} - \\vec{r}_{2})}{||\\vec{r}_{1} - \\vec{r}_{2}||^3} + \\dfrac{Gm_3(\\vec{r}_{1} - \\vec{r}_{3})}{||\\vec{r}_{1} - \\vec{r}_{3}||^{3}} \\right) $$\n",
    "\n",
    "$$\\dot{\\vec{V}}_{2} = - \\left( \\dfrac{Gm_1(\\vec{r}_{2} - \\vec{r}_{1})}{||\\vec{r}_{2} - \\vec{r}_{1}||^3} + \\dfrac{Gm_3(\\vec{r}_{2} - \\vec{r}_{3})}{||\\vec{r}_{2} - \\vec{r}_{3}||^{3}}\\right) $$\n",
    "\n",
    "$$\\dot{\\vec{V}}_{3} = - \\left( \\dfrac{Gm_1(\\vec{r}_{3} - \\vec{r}_{1})}{||\\vec{r}_{3} - \\vec{r}_{1}||^3} + \\dfrac{Gm_2(\\vec{r}_{3} - \\vec{r}_{2})}{||\\vec{r}_{3} - \\vec{r}_{2}||^{3}}\\right) $$"
   ]
  },
  {
   "cell_type": "markdown",
   "metadata": {},
   "source": [
    "Se establecen las condiciones iniciales"
   ]
  },
  {
   "cell_type": "markdown",
   "metadata": {},
   "source": [
    "| Posición (r)                    |   Velocidad ($\\dot{r}$)\n",
    "|---------------------------------|------------------\n",
    "|  $r_1 = (0.97000436, -0.24308753)$               |    $\\dot{r}_1 = (0.46620369, 0.43236573)$       \n",
    "|  $r_2 = (0,0)$| $\\dot{r}_2 = (-0.93240737, -0.86473146)$             \n",
    "|   $r_3 = (-0.97000436, 0.24308753)$ |  $\\dot{r}_3 = (0.46620369, 0.4323657)$"
   ]
  },
  {
   "cell_type": "code",
   "execution_count": 3,
   "metadata": {},
   "outputs": [],
   "source": [
    "cond_int= np.array([-0.995492,0,0, 0.995492,0,0, 0,0,0, 0.0,0.0,0.067860,  0.0,0.0,0.067860 ,0.695804,1.067860,0.0])"
   ]
  },
  {
   "cell_type": "code",
   "execution_count": 4,
   "metadata": {},
   "outputs": [
    {
     "data": {
      "text/plain": [
       "array([-0.995492,  0.      ,  0.      ,  0.995492,  0.      ,  0.      ,\n",
       "        0.      ,  0.      ,  0.      ,  0.      ,  0.      ,  0.06786 ,\n",
       "        0.      ,  0.      ,  0.06786 ,  0.695804,  1.06786 ,  0.      ])"
      ]
     },
     "execution_count": 4,
     "metadata": {},
     "output_type": "execute_result"
    }
   ],
   "source": [
    "cond_int #vemos el array"
   ]
  },
  {
   "cell_type": "code",
   "execution_count": 5,
   "metadata": {},
   "outputs": [
    {
     "data": {
      "text/plain": [
       "array([-0.995492,  0.      ,  0.      ])"
      ]
     },
     "execution_count": 5,
     "metadata": {},
     "output_type": "execute_result"
    }
   ],
   "source": [
    "cond_int[0:3] #coordenadas de r1"
   ]
  },
  {
   "cell_type": "code",
   "execution_count": 6,
   "metadata": {},
   "outputs": [
    {
     "data": {
      "text/plain": [
       "array([0.995492, 0.      , 0.      ])"
      ]
     },
     "execution_count": 6,
     "metadata": {},
     "output_type": "execute_result"
    }
   ],
   "source": [
    "cond_int[3:6] #coordnadas de r2"
   ]
  },
  {
   "cell_type": "code",
   "execution_count": 7,
   "metadata": {},
   "outputs": [
    {
     "data": {
      "text/plain": [
       "array([0., 0., 0.])"
      ]
     },
     "execution_count": 7,
     "metadata": {},
     "output_type": "execute_result"
    }
   ],
   "source": [
    "cond_int[6:9] #coordenadas de r3"
   ]
  },
  {
   "cell_type": "code",
   "execution_count": 8,
   "metadata": {},
   "outputs": [],
   "source": [
    "m_123 = np.array([1, 1, 1]) #se establece masas iguales"
   ]
  },
  {
   "cell_type": "code",
   "execution_count": 9,
   "metadata": {},
   "outputs": [],
   "source": [
    "t = np.linspace(0, 100, 10001) #determinamos el tiempo"
   ]
  },
  {
   "cell_type": "code",
   "execution_count": 10,
   "metadata": {},
   "outputs": [],
   "source": [
    "def distance(u, v): #se crea una función de distancia que recibe un array con las coordenadas de cada punto\n",
    "    '''Calcula la distancia entre dos puntos'''\n",
    "    return np.sqrt((u[0] - v[0])**2 + (u[1] - v[1])**2 + (u[2] - v[2])**2 ) #ecuación de distancia "
   ]
  },
  {
   "cell_type": "code",
   "execution_count": 11,
   "metadata": {},
   "outputs": [],
   "source": [
    "def three_body(y, t, masses): #se crea la función del campo vectorial\n",
    "    '''Esta función recibe \"y\" como un array de las condiciones iniciales, un tiempo \"t\" y las masas de los cuerpos'''\n",
    "    \n",
    "    out = np.zeros(18) #se crea un array de 18 espacios con valores que inician en cero\n",
    "\n",
    "    r_1, r_2, r_3 = y[0:3], y[3:6], y[6:9] #se le asigna a las posiciones sus condiciones iniciales\n",
    "    V_1, V_2, V_3 = y[9:12], y[12:15], y[15:18] #se le asigna a las velocidades sus condiciones iniciales\n",
    "    aux1 = (r_1 - r_2)/(distance(r_1, r_2))**3 #restamos los vectores r1 y r2 y lo dividimos entre su distancia al cubo\n",
    "    aux2 = (r_1 - r_3)/(distance(r_1, r_3))**3 #restamos los vectores r1 y r3 y lo dividimos entre su distancia al cubo\n",
    "    aux3 = (r_2 - r_3)/(distance(r_2, r_3))**3 #restamos los vectores r2 y r3 y lo dividimos entre su distancia al cubo\n",
    "    Vdot_1 = -(masses[1]*aux1 + masses[2]*aux2) #sacamos la aceleración multiplocando aux1 por la masa 2 y sumándole la masa 3 multiplicada por aux 2\n",
    "    Vdot_2 = -(-masses[0]*aux1 + masses[2]*aux3) #sacamos la aceleración multiplocando aux1 por la masa 1 y sumándole la masa 3 multiplicada por aux 3\n",
    "    Vdot_3 = -(-masses[0]*aux2 - masses[1]*aux3) #sacamos la aceleración multiplocando aux2 por la masa 1 y restándole la masa 2 multiplicada por aux 3\n",
    "    \n",
    "    index = 0 #inicia la variable\n",
    "    \n",
    "    for j in (V_1, V_2, V_3, Vdot_1, Vdot_2, Vdot_3): #para j en las velocidades y aceleraciones de cada cuerpo\n",
    "        for k in j: #para k en j \n",
    "            out[index] = k #se guarda las velocidades y aceleracioones en out\n",
    "            \n",
    "            index = index  + 1 \n",
    "    \n",
    "    return out #regresa el valor de out"
   ]
  },
  {
   "cell_type": "code",
   "execution_count": 12,
   "metadata": {},
   "outputs": [
    {
     "data": {
      "text/plain": [
       "array([ 0.        ,  0.        ,  0.06786   ,  0.        ,  0.        ,\n",
       "        0.06786   ,  0.695804  ,  1.06786   ,  0.        ,  1.26134667,\n",
       "       -0.        , -0.        , -1.26134667, -0.        , -0.        ,\n",
       "       -0.        ,  0.        ,  0.        ])"
      ]
     },
     "execution_count": 12,
     "metadata": {},
     "output_type": "execute_result"
    }
   ],
   "source": [
    "three_body(cond_int, t, m_123) #corremoos la función con las condiciones iniciales, el tiempo y las masas"
   ]
  },
  {
   "cell_type": "code",
   "execution_count": 13,
   "metadata": {},
   "outputs": [],
   "source": [
    "t = np.linspace(0, 2.0, 101) #tiempo de integración "
   ]
  },
  {
   "cell_type": "code",
   "execution_count": 14,
   "metadata": {},
   "outputs": [],
   "source": [
    "cond_int= np.array([0.97000436, -0.24308753,0, 0,0,0, -0.97000436, 0.24308753,0, 0.46620369,0.43236573,0.0,  -0.93240737,-0.86473146,0.0 , 0.46620369,0.43236573,0.0])"
   ]
  },
  {
   "cell_type": "code",
   "execution_count": 15,
   "metadata": {},
   "outputs": [],
   "source": [
    "out = odeint(three_body, cond_int, t, args = (m_123,)) #usamos odeint para integrar nuestras condiciones iniciales"
   ]
  },
  {
   "cell_type": "code",
   "execution_count": 52,
   "metadata": {},
   "outputs": [
    {
     "data": {
      "text/plain": [
       "[<matplotlib.lines.Line2D at 0x18275cdcee0>]"
      ]
     },
     "execution_count": 52,
     "metadata": {},
     "output_type": "execute_result"
    },
    {
     "data": {
      "image/png": "[encoded data removed]",
      "text/plain": [
       "<Figure size 432x288 with 1 Axes>"
      ]
     },
     "metadata": {
      "needs_background": "light"
     },
     "output_type": "display_data"
    }
   ],
   "source": [
    "plt.plot(out[:,0],out[:,1], color ='lightseagreen' )\n",
    "plt.plot(out[-1,0],out[-1,1], 'go')\n",
    "plt.plot(out[:,3],out[:,4], color= 'lightskyblue')\n",
    "plt.plot(out[-1,3],out[-1,4], 'bo')\n",
    "plt.plot(out[:,6],out[:,7], color = 'crimson')\n",
    "plt.plot(out[-1,6],out[-1,7], 'ro')"
   ]
  }
 ],
 "metadata": {
  "kernelspec": {
   "display_name": "Python 3",
   "language": "python",
   "name": "python3"
  },
  "language_info": {
   "codemirror_mode": {
    "name": "ipython",
    "version": 3
   },
   "file_extension": ".py",
   "mimetype": "text/x-python",
   "name": "python",
   "nbconvert_exporter": "python",
   "pygments_lexer": "ipython3",
   "version": "3.8.3"
  }
 },
 "nbformat": 4,
 "nbformat_minor": 4
}
